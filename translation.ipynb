{
 "cells": [
  {
   "cell_type": "code",
   "execution_count": 2,
   "metadata": {},
   "outputs": [],
   "source": [
    "import pandas as pd\n",
    "\n",
    "df = pd.read_csv(\"hf://datasets/intone/horror_stories_reddit/horror_stories_reddit.csv\")"
   ]
  },
  {
   "cell_type": "code",
   "execution_count": 3,
   "metadata": {},
   "outputs": [],
   "source": [
    "df = df.head(10)"
   ]
  },
  {
   "cell_type": "code",
   "execution_count": 4,
   "metadata": {},
   "outputs": [],
   "source": [
    "sample_paragraph = df['text'][1]"
   ]
  },
  {
   "cell_type": "code",
   "execution_count": 9,
   "metadata": {},
   "outputs": [
    {
     "name": "stdout",
     "output_type": "stream",
     "text": [
      "Gốc: I (19M) was going home from university, and to get home, I have to use the train.\n",
      "Đã dịch: vi: Tôi (19 tuổi) đang từ trường đại học về nhà, và để về nhà, tôi phải dùng tàu hỏa.\n",
      "\n"
     ]
    }
   ],
   "source": [
    "from transformers import pipeline\n",
    "from nltk.tokenize import sent_tokenize\n",
    "\n",
    "# Hàm để xử lý văn bản sau khi dịch \n",
    "def post_processing(text):\n",
    "    try:\n",
    "        # Dịch văn bản sử dụng pipeline của Hugging Face\n",
    "        translated_text = transformer(text, max_length=40)[0]['translation_text']\n",
    "    except Exception as e:\n",
    "        print(f\"Dịch thất bại: {e}\")\n",
    "        return text  # Trả về văn bản gốc nếu dịch thất bại\n",
    "    \n",
    "    return translated_text\n",
    "\n",
    "# Hàm để chia đoạn văn thành các câu\n",
    "def split_paragraph(paragraph):\n",
    "    return sent_tokenize(paragraph)\n",
    "\n",
    "# Hàm để loại bỏ \"vi\" ở đầu câu, nếu có\n",
    "def remove_vi_at_beginning(translated_text):\n",
    "    if translated_text.startswith(\"vi\"):\n",
    "        return ' '.join(translated_text.split()[1:])\n",
    "    return translated_text\n",
    "\n",
    "if __name__ == '__main__':\n",
    "    # Tải mô hình dịch từ Hugging Face\n",
    "    transformer = pipeline(\"translation\", model=\"VietAI/envit5-translation\")\n",
    "\n",
    "    # Đoạn văn mẫu\n",
    "    sample_paragraph = \"I (19M) was going home from university, and to get home, I have to use the train.\"\n",
    "\n",
    "    # Chia đoạn văn mẫu thành các câu\n",
    "    sentences = split_paragraph(sample_paragraph)\n",
    "\n",
    "    for sentence in sentences:\n",
    "        # Dịch và xử lý sau khi dịch\n",
    "        translated_text = post_processing(sentence)\n",
    "        print(f\"Gốc: {sentence}\\nĐã dịch: {translated_text}\\n\")\n"
   ]
  }
 ],
 "metadata": {
  "kernelspec": {
   "display_name": "Python 3",
   "language": "python",
   "name": "python3"
  },
  "language_info": {
   "codemirror_mode": {
    "name": "ipython",
    "version": 3
   },
   "file_extension": ".py",
   "mimetype": "text/x-python",
   "name": "python",
   "nbconvert_exporter": "python",
   "pygments_lexer": "ipython3",
   "version": "3.12.4"
  }
 },
 "nbformat": 4,
 "nbformat_minor": 2
}
