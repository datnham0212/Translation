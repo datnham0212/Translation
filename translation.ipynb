{
 "cells": [
  {
   "cell_type": "code",
   "execution_count": 26,
   "metadata": {},
   "outputs": [],
   "source": [
    "import pandas as pd\n",
    "\n",
    "df = pd.read_csv(\"hf://datasets/intone/horror_stories_reddit/horror_stories_reddit.csv\")"
   ]
  },
  {
   "cell_type": "code",
   "execution_count": 27,
   "metadata": {},
   "outputs": [],
   "source": [
    "df = df.head(10)"
   ]
  },
  {
   "cell_type": "code",
   "execution_count": 28,
   "metadata": {},
   "outputs": [],
   "source": [
    "sample_paragraph = df['text'][1]"
   ]
  },
  {
   "cell_type": "code",
   "execution_count": 30,
   "metadata": {},
   "outputs": [
    {
     "name": "stderr",
     "output_type": "stream",
     "text": [
      "c:\\Python312\\Lib\\site-packages\\transformers\\tokenization_utils_base.py:1617: FutureWarning: `clean_up_tokenization_spaces` was not set. It will be set to `True` by default. This behavior will be deprecated in transformers v4.45, and will be then set to `False` by default. For more details check this issue: https://github.com/huggingface/transformers/issues/31884\n",
      "  warnings.warn(\n"
     ]
    },
    {
     "name": "stdout",
     "output_type": "stream",
     "text": [
      "Original: This happened last week, and while she didn't seem malicious, the things she said was creepy.\n",
      "Translated: Chuyện này xảy ra tuần trước, và trong khi cô ấy không có vẻ gì là xấu xa, những điều nói thật đáng sợ.\n",
      "\n",
      "Original: I (19M) was going home from university, and to  get home, I have to use the train.\n",
      "Translated: Tôi (19 tuổi) đang từ trường đại học về nhà, và để tôi phải dùng tàu hỏa.\n",
      "\n"
     ]
    },
    {
     "name": "stderr",
     "output_type": "stream",
     "text": [
      "Your input_length: 42 is bigger than 0.9 * max_length: 40. You might consider increasing your max_length manually, e.g. translator('...', max_length=400)\n"
     ]
    },
    {
     "name": "stdout",
     "output_type": "stream",
     "text": [
      "Original: As I got on, a lot of the seats were occupied.\n",
      "Translated: Khi tôi lên xe, rất nhiều chỗ ngồi đã có người ngồi.\n",
      "\n",
      "Original: In my country, the seats are put in a way so that four people can talk and sit in front of each other, and they are kinda close, perfect for talking, even with strangers, sadly.\n",
      "Translated: Ở nước tôi, chỗ ngồi được sắp xếp sao cho bốn người có thể nói chuyện và trước mặt nhau, họ khá gần hoàn hảo để chuyện, ngay cả\n",
      "\n",
      "Original: I see that there is a free space in front of this girl, who one or two years younger me, but you can never know.\n",
      "Translated: Tôi thấy có một khoảng trống trước mặt cô gái này, bé nhỏ hơn tôi hoặc hai tuổi, nhưng bạn không bao giờ biết được.\n",
      "\n",
      "Original: I go there, and I ask her if I can sit down.\n",
      "Translated: Tôi đến đó, và tôi hỏi cô ấy liệu có thể ngồi xuống không.\n",
      "\n",
      "Original: \"Of course\", she replied, and looked at me in a strange, intense way.\n",
      "Translated: 'Tất nhiên', cô đáp, và nhìn tôi với ánh mắt kỳ lạ, mãnh liệt.\n",
      "\n",
      "Original: I pulled out my phone to distract myself from her.\n",
      "Translated: Tôi rút điện thoại ra để đánh lạc hướng mình khỏi cô ấy.\n",
      "\n",
      "Original: She also had a chocolate in her hand, that's gonna be important for later.\n",
      "Translated: Cô ấy cũng cầm một thanh sô cô la trên tay, điều đó sẽ rất quan trọng sau này.\n",
      "\n",
      "Original: She asked me \"Where do you live?\"\n",
      "Translated: Cô ấy hỏi tôi \"Cô sống ở đâu?\"\n",
      "\n",
      "Original: and I was like 'Why do you have to know?\n",
      "Translated: Và tôi nói, \" Tại sao bạn phải biết?\n",
      "\n",
      "Original: \", so she asked when I'm gonna get off the train.\n",
      "Translated: \", nên cô ấy hỏi khi nào tôi sẽ xuống tàu.\n",
      "\n",
      "Original: I told her the place, and she told me that she's getting off the next one.\n",
      "Translated: Tôi nói với cô ấy nơi đó, và tôi rằng sẽ rời khỏi tiếp theo.\n",
      "\n",
      "Original: She started singing, then said \"Oh, sometimes I sing.\n",
      "Translated: Cô ấy bắt đầu hát, sau đó nói \"Ồ, đôi khi tôi hát.\n",
      "\n"
     ]
    },
    {
     "name": "stderr",
     "output_type": "stream",
     "text": [
      "Your input_length: 42 is bigger than 0.9 * max_length: 40. You might consider increasing your max_length manually, e.g. translator('...', max_length=400)\n"
     ]
    },
    {
     "name": "stdout",
     "output_type": "stream",
     "text": [
      "Original: I'm a silly girl\", then did it AGAIN.\n",
      "Translated: Mình là một cô gái ngốc nghếch ', sau đó làm điều NGAY LẠI.\n",
      "\n",
      "Original: Whenever she said something, she looked at me like she was waiting a response, so I replied \"it's okay to be silly\", because I just didn't want to talk to her.\n",
      "Translated: Mỗi khi cô ấy nói gì đó, nhìn tôi như thể đang chờ câu trả lời, vì vậy lời \"ngu ngốc cũng không sao\", bởi\n",
      "\n",
      "Original: Then, she told me that \"You're pretty\", and when I asked \"What?\"\n",
      "Translated: Rồi cô ấy nói với tôi rằng \"Cậu xinh đẹp\", và khi hỏi \"Cái gì?\"\n",
      "\n",
      "Original: she asked if she's pretty.\n",
      "Translated: Cô ấy hỏi liệu có đẹp không.\n",
      "\n",
      "Original: In my language, the second one is an extension of the first (\"Szép vagy\" turned to \"Szép vagyok?\n",
      "Translated: Trong ngôn ngữ của tôi, từ thứ hai là một phần mở rộng nhất (\"Szép vagy\" chuyển thành \"Szép vagyok?\n",
      "\n",
      "Original: \"), so it seemed like she corrected herself.\n",
      "Translated: \"), vì vậy có vẻ như cô ấy đã tự sửa chữa.\n",
      "\n",
      "Original: Then she asked if she had chocolate on her face, she did.\n",
      "Translated: Rồi cô hỏi có phải trên mặt sôcôla không, đã hỏi.\n",
      "\n",
      "Original: I also got the chocolate in her offered to me, but I declined.\n",
      "Translated: Tôi cũng được cô ấy mời tôi sô la, nhưng từ chối.\n",
      "\n",
      "Original: She also told me about her piercing that came off, and she put it on in the middle of the train.\n",
      "Translated: Cô ấy cũng kể với tôi về lỗ xỏ khuyên của cô bị tháo ra, và đeo nó vào giữa tàu.\n",
      "\n",
      "Original: I told her that she should get it fixed where she got it, and she said \"In Germany?\n",
      "Translated: Tôi bảo cô ấy rằng nên sửa nó ở nơi đã xăm, và nói \"Ở Đức?\n",
      "\n",
      "Original: Will you go there with me?\"\n",
      "Translated: Cậu có đi cùng tớ không? '.\n",
      "\n",
      "Original: but obviously, I told her no.\n",
      "Translated: Nhưng rõ ràng là tôi đã nói không với cô ấy.\n",
      "\n"
     ]
    },
    {
     "name": "stderr",
     "output_type": "stream",
     "text": [
      "Your input_length: 52 is bigger than 0.9 * max_length: 40. You might consider increasing your max_length manually, e.g. translator('...', max_length=400)\n"
     ]
    },
    {
     "name": "stdout",
     "output_type": "stream",
     "text": [
      "Original: While she tried to put on her piercing back in (her mouth-piercing), she told me that she's in love with me.\n",
      "Translated: Trong khi cố đeo khuyên vào lại (đôi môi bị xỏ khuyên), cô ấy nói với tôi rằng yêu tôi.\n",
      "\n",
      "Original: I told her that I have a girlfriend (I don't, but the university I attend has much prettier girls than her) and that \"the pacing is too fast for me\", and she told me that she will beat my girlfriend.\n",
      "Translated: Tôi nói với cô ấy rằng tôi có bạn gái (tôi không có, nhưng trường đại học theo nhiều xinh đẹp hơn ấy) và \"cuộc đi\n",
      "\n",
      "Original: Her \"I love you\" started escalating into \"I'll kidnap you\" and \"Strip for me\".\n",
      "Translated: Câu \"Anh yêu em\" của cô ấy bắt đầu leo thang thành sẽ cóc và \"Đuổi em đi\".\n",
      "\n",
      "Original: She asked me if I'll go with her, and if she could go with me home.\n",
      "Translated: Cô ấy hỏi tôi có đi cùng cô không, và liệu thể về nhà không.\n",
      "\n",
      "Original: Then, when the train arrived at my destination, she asked me \"Are you going, love?\n",
      "Translated: Khi tàu đến nơi, cô ấy hỏi tôi: \"Cậu có đi không, cưng?\n",
      "\n",
      "Original: \", I told her yes, and went on my way.\n",
      "Translated: Tôi nói có, và đi tiếp.\n",
      "\n",
      "Original: Luckily she didn't follow me home.\n",
      "Translated: May mắn là cô ấy không theo tôi về nhà.\n",
      "\n",
      "Original: She also asked me when we are going to meet again.\n",
      "Translated: Cô ấy cũng hỏi tôi khi nào chúng sẽ gặp lại.\n",
      "\n",
      "Original: Hopefully never.\n",
      "Translated: Hy vọng là không bao giờ.\n",
      "\n"
     ]
    }
   ],
   "source": [
    "from transformers import pipeline\n",
    "from nltk.tokenize import sent_tokenize\n",
    "\n",
    "def split_paragraph(paragraph):\n",
    "    sentences = sent_tokenize(paragraph)\n",
    "    return sentences\n",
    "\n",
    "def avoid_repetition(text):\n",
    "    translated_text = transformer(text, max_length=40)[0]['translation_text']\n",
    "    \n",
    "    # Tách câu thành các từ\n",
    "    words = translated_text.split()\n",
    "\n",
    "    # Tạo 1 set để lưu các từ đã xuất hiện\n",
    "    seen_words = set()\n",
    "\n",
    "    # Tạo 1 list chứa kết quả không lặp lại từ để trả về\n",
    "    result = []\n",
    "\n",
    "    # Duyệt qua các từ trong câu\n",
    "    for word in words:\n",
    "        if word not in seen_words:\n",
    "            seen_words.add(word)\n",
    "            result.append(word)\n",
    "    \n",
    "    return ' '.join(result)\n",
    "\n",
    "def remove_vi_at_beginning(translated_text):\n",
    "    return ' '.join(translated_text.split()[1:])\n",
    "    \n",
    "\n",
    "if __name__ == '__main__':\n",
    "    # Tải model phiên dịch từ Hugging Face\n",
    "    transformer = pipeline(\"translation\", model=\"VietAI/envit5-translation\")\n",
    "\n",
    "    sentences = split_paragraph(sample_paragraph)\n",
    "    \n",
    "    for sentence in sentences:\n",
    "        translated_text = avoid_repetition(sentence)\n",
    "        translated_text = remove_vi_at_beginning(translated_text)\n",
    "        print(f\"Original: {sentence}\\nTranslated: {translated_text}\\n\")\n",
    "\n",
    "            \n"
   ]
  }
 ],
 "metadata": {
  "kernelspec": {
   "display_name": "Python 3",
   "language": "python",
   "name": "python3"
  },
  "language_info": {
   "codemirror_mode": {
    "name": "ipython",
    "version": 3
   },
   "file_extension": ".py",
   "mimetype": "text/x-python",
   "name": "python",
   "nbconvert_exporter": "python",
   "pygments_lexer": "ipython3",
   "version": "3.12.4"
  }
 },
 "nbformat": 4,
 "nbformat_minor": 2
}
